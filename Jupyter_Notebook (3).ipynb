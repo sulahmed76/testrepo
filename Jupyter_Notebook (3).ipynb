{
 "cells": [
  {
   "cell_type": "markdown",
   "metadata": {},
   "source": [
    "<center>\n",
    "    <img src=\"https://s3-api.us-geo.objectstorage.softlayer.net/cf-courses-data/CognitiveClass/Logos/organization_logo/organization_logo.png\" width=\"300\" alt=\"cognitiveclass.ai logo\"  />\n",
    "</center>\n"
   ]
  },
  {
   "cell_type": "markdown",
   "metadata": {},
   "source": [
    "#### Add your code below following the instructions given in the course\n"
   ]
  },
  {
   "cell_type": "markdown",
   "metadata": {
    "tags": []
   },
   "source": [
    "# My Jupyter Notebook on IBM Watson Studio"
   ]
  },
  {
   "cell_type": "markdown",
   "metadata": {},
   "source": [
    "## Sultan Ahmed 
    Future Financial Data Analyst"
   ]
  },
  {
   "cell_type": "markdown",
   "metadata": {},
   "source": [
    "_I am interested in data science because I truly appreciate the power of data science and the use of it in better decision making_"
   ]
  },
  {
   "cell_type": "markdown",
   "metadata": {},
   "source": [
    "### Total number of goals scored in 5 matches"
   ]
  },
  {
   "cell_type": "code",
   "execution_count": 10,
   "metadata": {},
   "outputs": [
    {
     "name": "stdout",
     "output_type": "stream",
     "text": [
      "7\n"
     ]
    }
   ],
   "source": [
    "match1 = 2\n",
    "match2 = 1\n",
    "match3 = 0\n",
    "match4 = 3\n",
    "match5 = 1\n",
    "\n",
    "sum = match1+match2+match3+match4+match5\n",
    "\n",
    "print(sum)"
   ]
  },
  {
   "cell_type": "markdown",
   "metadata": {},
   "source": [
    "1. Match 1 - Scored 2 Goal\n",
    "2. Match 2 - Scored 1 Goal\n",
    "3. Match 3 - Scored 0 Goal\n",
    "4. Match 4 - Scored 3 Goal\n",
    "5. Match 5 = Scored 1 Goal"
   ]
  },
  {
   "cell_type": "markdown",
   "metadata": {},
   "source": [
    "- Match 1 - 1 Foul\n",
    "- Match 2 - 0 Foul\n",
    "- Match 3 - 2 Foul and a yellow card\n",
    "- Match 4 - 1 Foul\n",
    "- Match 5 - 3 Foul and a red card"
   ]
  },
  {
   "cell_type": "markdown",
   "metadata": {},
   "source": [
    "| Home Game | Away Game\n",
    "| -: | -:\n",
    "| 3 | 2"
   ]
  },
  {
   "attachments": {
    "3e0f629f-99f9-4ac7-b124-6ccef3744823.jfif": {
     "image/jpeg": "[encoded data removed]"
    }
   },
   "cell_type": "markdown",
   "metadata": {},
   "source": [
    "![football.jfif](attachment:3e0f629f-99f9-4ac7-b124-6ccef3744823.jfif)"
   ]
  }
 ],
 "metadata": {
  "kernelspec": {
   "display_name": "Python",
   "language": "python",
   "name": "conda-env-python-py"
  },
  "language_info": {
   "codemirror_mode": {
    "name": "ipython",
    "version": 3
   },
   "file_extension": ".py",
   "mimetype": "text/x-python",
   "name": "python",
   "nbconvert_exporter": "python",
   "pygments_lexer": "ipython3",
   "version": "3.7.12"
  }
 },
 "nbformat": 4,
 "nbformat_minor": 4
}
